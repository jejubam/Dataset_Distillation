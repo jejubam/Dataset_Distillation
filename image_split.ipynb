{
 "cells": [
  {
   "cell_type": "code",
   "execution_count": 5,
   "metadata": {},
   "outputs": [],
   "source": [
    "from PIL import Image\n",
    "\n",
    "# 원본 이미지 경로\n",
    "original_image_path = 'vis_DM_CIFAR10_ConvNet_10ipc_exp0_iter20000.png'\n",
    "\n",
    "# 원본 이미지 열기\n",
    "original_image = Image.open(original_image_path)\n",
    "\n",
    "# 원본 이미지의 크기 가져오기\n",
    "width, height = original_image.size\n",
    "\n",
    "# 분할할 이미지의 크기 (32x32)\n",
    "split_size = 32\n",
    "\n",
    "# 분할된 이미지의 수\n",
    "num_splits = 115\n",
    "\n",
    "# 이미지 분할\n",
    "for i in range(num_splits):\n",
    "    # 분할할 이미지의 위치 계산\n",
    "    j = i % 10\n",
    "    k = i // 10\n",
    "    left = 2 + 34 * j\n",
    "    top = 2 + 34 * k\n",
    "    # 이미지 분할\n",
    "    split_image = original_image.crop((left, top, left + split_size, top + split_size))\n",
    "\n",
    "    # 분할된 이미지 저장\n",
    "    split_image.save(f'split_{i + 1}.png')"
   ]
  },
  {
   "cell_type": "code",
   "execution_count": null,
   "metadata": {},
   "outputs": [],
   "source": []
  }
 ],
 "metadata": {
  "kernelspec": {
   "display_name": "base",
   "language": "python",
   "name": "python3"
  },
  "language_info": {
   "codemirror_mode": {
    "name": "ipython",
    "version": 3
   },
   "file_extension": ".py",
   "mimetype": "text/x-python",
   "name": "python",
   "nbconvert_exporter": "python",
   "pygments_lexer": "ipython3",
   "version": "3.11.5"
  }
 },
 "nbformat": 4,
 "nbformat_minor": 2
}
